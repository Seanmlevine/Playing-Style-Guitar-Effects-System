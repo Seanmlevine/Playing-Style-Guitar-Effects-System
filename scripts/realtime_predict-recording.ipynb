{
 "cells": [
  {
   "cell_type": "code",
   "execution_count": 2,
   "metadata": {},
   "outputs": [],
   "source": [
    "from music_dealer import MusicDealer\n",
    "from models import CnnModel, CrnnLongModel, CrnnModel\n",
    "import json\n",
    "from Paras_nb import Para\n",
    "import os\n",
    "import time\n",
    "import numpy as np\n",
    "\n",
    "import pyaudio\n",
    "import wave\n",
    "\n",
    "from pydub import AudioSegment\n",
    "\n",
    "import librosa\n",
    "import librosa.display as display\n",
    "import matplotlib.pyplot as plt\n",
    "\n",
    "from pythonosc.udp_client import SimpleUDPClient\n",
    "import collections"
   ]
  },
  {
   "attachments": {},
   "cell_type": "markdown",
   "metadata": {},
   "source": [
    "Device Setup"
   ]
  },
  {
   "cell_type": "code",
   "execution_count": 3,
   "metadata": {},
   "outputs": [
    {
     "name": "stdout",
     "output_type": "stream",
     "text": [
      "Input Device id  0  -  Seenie’s Phone Microphone\n",
      "Input Device id  1  -  MacBook Pro Microphone\n",
      "Input Device id  3  -  ZoomAudioDevice\n"
     ]
    }
   ],
   "source": [
    "# Check for Audio Interface\n",
    "p = pyaudio.PyAudio()\n",
    "info = p.get_host_api_info_by_index(0)\n",
    "numdevices = info.get('deviceCount')\n",
    "\n",
    "for i in range(0, numdevices):\n",
    "    if (p.get_device_info_by_host_api_device_index(0, i).get('name')) == 'Scarlett 18i8 USB':\n",
    "        device_index = p.get_device_info_by_host_api_device_index(0, i).get('index')\n",
    "        device = p.get_device_info_by_host_api_device_index(0, i)\n",
    "    else:\n",
    "        device_index = p.get_device_info_by_host_api_device_index(\n",
    "            0, 1).get('index')\n",
    "        device = p.get_device_info_by_host_api_device_index(0, 1)\n",
    "    if (p.get_device_info_by_host_api_device_index(0, i).get('maxInputChannels')) > 0:\n",
    "        print(\"Input Device id \", i, \" - \",\n",
    "              p.get_device_info_by_host_api_device_index(0, i).get('name'))\n"
   ]
  },
  {
   "attachments": {},
   "cell_type": "markdown",
   "metadata": {},
   "source": [
    "Check which Device is in Use"
   ]
  },
  {
   "cell_type": "code",
   "execution_count": 5,
   "metadata": {},
   "outputs": [
    {
     "data": {
      "text/plain": [
       "{'index': 1,\n",
       " 'structVersion': 2,\n",
       " 'name': 'MacBook Pro Microphone',\n",
       " 'hostApi': 0,\n",
       " 'maxInputChannels': 1,\n",
       " 'maxOutputChannels': 0,\n",
       " 'defaultLowInputLatency': 0.055056689342403625,\n",
       " 'defaultLowOutputLatency': 0.01,\n",
       " 'defaultHighInputLatency': 0.06521541950113378,\n",
       " 'defaultHighOutputLatency': 0.1,\n",
       " 'defaultSampleRate': 44100.0}"
      ]
     },
     "execution_count": 5,
     "metadata": {},
     "output_type": "execute_result"
    }
   ],
   "source": [
    "device"
   ]
  },
  {
   "attachments": {},
   "cell_type": "markdown",
   "metadata": {},
   "source": [
    "Initialize Interpolation Dictionary with Stored Effects JSON File"
   ]
  },
  {
   "cell_type": "code",
   "execution_count": 6,
   "metadata": {},
   "outputs": [],
   "source": [
    "path_to_json_file = \"effects_params.json\"\n",
    "\n",
    "with open(path_to_json_file) as f:\n",
    "    effects_params = json.load(f)\n",
    "\n",
    "def interpDictionary(dictionaries, percentages):\n",
    "    interp_dict = collections.defaultdict(dict)\n",
    "    temp_val = []\n",
    "    for idx, val in enumerate(dictionaries):\n",
    "        elem = effects_params['pattrstorage']['slots'][str(val+1)]['data']\n",
    "\n",
    "        for key, value in elem.items():\n",
    "            if bool(interp_dict[key]):\n",
    "                temp_val = interp_dict[key]\n",
    "                temp_val += (value[0] * percentages[idx]/100.0)\n",
    "            else:\n",
    "                temp_val = (value[0] * percentages[idx]/100.0)\n",
    "            interp_dict.update({key: temp_val})\n",
    "    return interp_dict\n"
   ]
  },
  {
   "attachments": {},
   "cell_type": "markdown",
   "metadata": {},
   "source": [
    "Continuous Recording!"
   ]
  },
  {
   "cell_type": "code",
   "execution_count": 34,
   "metadata": {},
   "outputs": [
    {
     "name": "stdout",
     "output_type": "stream",
     "text": [
      "Prediction for Chunk 1: \n",
      "\n",
      "Genre metal: 100.0%\n",
      "2 0 1 {2: 100.0, 0: 0.0} \n",
      "********************************************************\n",
      "\n",
      "\n",
      "Prediction for Chunk 2: \n",
      "\n",
      "Genre metal: 100.0%\n",
      "2 0 1 {2: 100.0, 0: 0.0} \n",
      "********************************************************\n",
      "\n",
      "\n",
      "Prediction for Chunk 3: \n",
      "\n",
      "Genre metal: 100.0%\n",
      "2 0 1 {2: 100.0, 0: 0.0} \n",
      "********************************************************\n",
      "\n",
      "\n",
      "\n"
     ]
    }
   ],
   "source": [
    "\n",
    "\n",
    "# Initialize Model used for Prediction\n",
    "WEIGHT_PATH = \"../model/\"\n",
    "cnn_dealer = MusicDealer(\n",
    "    WEIGHT_PATH + \"CnnModel_guitar_JohnAll_128.pt\", CnnModel())\n",
    "\n",
    "# Begin OSC client for communication to Max MSP\n",
    "ip = \"127.0.0.1\"\n",
    "port = 1338\n",
    "client = SimpleUDPClient(ip, port)  # Create client\n",
    "\n",
    "# Initialize Pyaudio stream parameters\n",
    "CHUNKSIZE = 2**11\n",
    "SAMPLERATE = 44100\n",
    "channels = 1\n",
    "seconds = 9\n",
    "filename = \"guitar_recording.mp3\" # a demo filename \n",
    "sample_format = pyaudio.paFloat32 # might have to change this to int16\n",
    "rec_num = 1\n",
    "\n",
    "# first open preset value\n",
    "preset_num = 9\n",
    "\n",
    "\n",
    "p = pyaudio.PyAudio()\n",
    "\n",
    "# Set up the PyAudio stream\n",
    "stream = p.open(format=sample_format,\n",
    "                channels=1,\n",
    "                rate=SAMPLERATE,\n",
    "                input_device_index=device_index,\n",
    "                input=True,\n",
    "                frames_per_buffer=CHUNKSIZE)\n",
    "\n",
    "try:\n",
    "# Loop to continuously capture audio and make predictions\n",
    "    while True:\n",
    "\n",
    "        frames = []  # Initialize array to store frames\n",
    "\n",
    "        # Store data in chunks for 10 seconds\n",
    "        for i in range(0, int(SAMPLERATE / CHUNKSIZE * seconds)):\n",
    "            data = stream.read(CHUNKSIZE, exception_on_overflow=False)\n",
    "            frames.append(data)\n",
    "\n",
    "        wf = wave.open(filename, 'wb')\n",
    "        wf.setnchannels(channels)\n",
    "        wf.setsampwidth(p.get_sample_size(sample_format))\n",
    "        wf.setframerate(SAMPLERATE)\n",
    "        wf.writeframes(b''.join(frames))\n",
    "        wf.close()\n",
    "\n",
    "        print(f\"Prediction for Chunk {rec_num}: \\n\")\n",
    "        rec_num += 1\n",
    "\n",
    "        # Make a prediction using the genre predictor model    \n",
    "        res1, res2, res3, score = cnn_dealer.get_genre(filename)\n",
    "        print(res1, res2, res3, score,\n",
    "              \"\\n********************************************************\\n\\n\")\n",
    "        \n",
    "        # Grab the list of genre indices and percentages\n",
    "        genres = list(score.keys())\n",
    "        percents = list(score.values())\n",
    "\n",
    "        # Interpolate the predicted genres by their percentages to create a new effect in between \n",
    "        interp_dict = interpDictionary(genres, percents)\n",
    "\n",
    "        # send to OSC\n",
    "        for key, value in interp_dict.items():\n",
    "            client.send_message(key, [preset_num, value])\n",
    "            # print(key)\n",
    "            # print(value)\n",
    "\n",
    "        # Tell Max MSP the storing of new parameters is done\n",
    "        client.send_message(\"/end\", preset_num-1)\n",
    "        preset_num += 1\n",
    "\n",
    "        \n",
    "\n",
    "except KeyboardInterrupt as e:\n",
    "    stream.stop_stream()\n",
    "    stream.close()\n",
    "    p.terminate()\n",
    "    print(e)\n",
    "\n",
    "except Exception as e:\n",
    "    stream.stop_stream()\n",
    "    stream.close()\n",
    "    p.terminate()\n",
    "    print(e)\n"
   ]
  },
  {
   "attachments": {},
   "cell_type": "markdown",
   "metadata": {},
   "source": [
    "Testing Interpolation System"
   ]
  },
  {
   "cell_type": "code",
   "execution_count": null,
   "metadata": {},
   "outputs": [],
   "source": [
    "path_to_json_file = \"effects_params.json\"\n",
    "\n",
    "\n",
    "with open(path_to_json_file) as f:\n",
    "    effects_params = json.load(f)\n",
    "\n",
    "\n",
    "def interpDictionary(dictionaries, percentages):\n",
    "   interp_dict = collections.defaultdict(dict)\n",
    "   temp_val = []\n",
    "   for idx, val in enumerate(dictionaries):\n",
    "        elem = effects_params['pattrstorage']['slots'][str(val+1)]['data']\n",
    "        for key, value in elem.items():\n",
    "            if bool(interp_dict[key]):\n",
    "                temp_val = interp_dict[key]\n",
    "                temp_val += (value[0] * percentages[idx]/100.0)\n",
    "            else:\n",
    "                temp_val = (value[0] * percentages[idx]/100.0)\n",
    "            interp_dict.update({key: temp_val})\n",
    "\n",
    "        return interp_dict\n",
    "\n",
    "\n",
    "test_audio_path = \"/Users/seanlevine/GT/Musical-Genre-Classification-master/electric_guitar/rock_blues/rock_1_100BPM.mp3\"\n",
    "res1, res2, res3, score = cnn_dealer.get_genre(test_audio_path)\n",
    "print(score)\n",
    "genres = list(score.keys())\n",
    "percents = list(score.values())\n",
    "\n",
    "interp_dict = interpDictionary(genres, percents)\n",
    " #TODO: Automate message sending based on dictionary name\n",
    "for key, value in interp_dict.items():\n",
    "    client.send_message(key, [preset_num, value])\n",
    "    # print(key)\n",
    "    # print(value)\n",
    "\n",
    "client.send_message(\"/end\", preset_num-1)\n",
    "preset_num += 1"
   ]
  }
 ],
 "metadata": {
  "kernelspec": {
   "display_name": "base",
   "language": "python",
   "name": "python3"
  },
  "language_info": {
   "codemirror_mode": {
    "name": "ipython",
    "version": 3
   },
   "file_extension": ".py",
   "mimetype": "text/x-python",
   "name": "python",
   "nbconvert_exporter": "python",
   "pygments_lexer": "ipython3",
   "version": "3.8.13"
  },
  "orig_nbformat": 4,
  "vscode": {
   "interpreter": {
    "hash": "d7ffc2d2b7747194be6bc9f906b5abad2840d9940c1cf13ded29b0b90ac10547"
   }
  }
 },
 "nbformat": 4,
 "nbformat_minor": 2
}
